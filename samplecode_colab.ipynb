{
  "nbformat": 4,
  "nbformat_minor": 0,
  "metadata": {
    "colab": {
      "provenance": []
    },
    "kernelspec": {
      "name": "python3",
      "display_name": "Python 3"
    },
    "language_info": {
      "name": "python"
    }
  },
  "cells": [
    {
      "cell_type": "markdown",
      "source": [
        "#\n",
        "Colab Environment\n",
        "\n"
      ],
      "metadata": {
        "id": "_YlMv_2SkkJr"
      }
    },
    {
      "cell_type": "markdown",
      "source": [
        "Uses TorchRL’s modern building blocks (TensorDictModule, QValueModule, EGreedyModule, DQNLoss, SoftUpdate).\n",
        "\n",
        "Explicitly separates:\n",
        "\n",
        "Value network (for learning with DQNLoss)\n",
        "\n",
        "Policy wrapper (for exploration/exploitation).\n",
        "\n",
        "This is the current recommended style in TorchRL ≥0.6 — modular, transparent, and closer to how you’d scale up to other algorithms (C51, QR-DQN, PPO, SAC, etc.).\n",
        "\n",
        "Cleaner for customizing (e.g., adding transforms, logging, RNNs).\n"
      ],
      "metadata": {
        "id": "yWFoVDZZm5gY"
      }
    },
    {
      "cell_type": "code",
      "source": [
        "!pip install torchrl\n",
        "\n",
        "#!pip install torch==2.2.2\n",
        "#!pip install torchrl==0.4.0 gym\n"
      ],
      "metadata": {
        "colab": {
          "base_uri": "https://localhost:8080/"
        },
        "id": "UdHZH2HkW4zr",
        "outputId": "e0c7fac0-d428-42ab-ca06-46b004cbcf23"
      },
      "execution_count": null,
      "outputs": [
        {
          "output_type": "stream",
          "name": "stdout",
          "text": [
            "Requirement already satisfied: torchrl in /usr/local/lib/python3.12/dist-packages (0.9.2)\n",
            "Requirement already satisfied: torch>=2.1.0 in /usr/local/lib/python3.12/dist-packages (from torchrl) (2.2.2)\n",
            "Requirement already satisfied: numpy in /usr/local/lib/python3.12/dist-packages (from torchrl) (2.0.2)\n",
            "Requirement already satisfied: packaging in /usr/local/lib/python3.12/dist-packages (from torchrl) (25.0)\n",
            "Requirement already satisfied: cloudpickle in /usr/local/lib/python3.12/dist-packages (from torchrl) (3.1.1)\n",
            "Requirement already satisfied: tensordict<0.10.0,>=0.9.0 in /usr/local/lib/python3.12/dist-packages (from torchrl) (0.9.1)\n",
            "Requirement already satisfied: importlib_metadata in /usr/local/lib/python3.12/dist-packages (from tensordict<0.10.0,>=0.9.0->torchrl) (8.7.0)\n",
            "Requirement already satisfied: orjson in /usr/local/lib/python3.12/dist-packages (from tensordict<0.10.0,>=0.9.0->torchrl) (3.11.3)\n",
            "Requirement already satisfied: pyvers<0.2.0,>=0.1.0 in /usr/local/lib/python3.12/dist-packages (from tensordict<0.10.0,>=0.9.0->torchrl) (0.1.0)\n",
            "Requirement already satisfied: filelock in /usr/local/lib/python3.12/dist-packages (from torch>=2.1.0->torchrl) (3.19.1)\n",
            "Requirement already satisfied: typing-extensions>=4.8.0 in /usr/local/lib/python3.12/dist-packages (from torch>=2.1.0->torchrl) (4.15.0)\n",
            "Requirement already satisfied: sympy in /usr/local/lib/python3.12/dist-packages (from torch>=2.1.0->torchrl) (1.13.3)\n",
            "Requirement already satisfied: networkx in /usr/local/lib/python3.12/dist-packages (from torch>=2.1.0->torchrl) (3.5)\n",
            "Requirement already satisfied: jinja2 in /usr/local/lib/python3.12/dist-packages (from torch>=2.1.0->torchrl) (3.1.6)\n",
            "Requirement already satisfied: fsspec in /usr/local/lib/python3.12/dist-packages (from torch>=2.1.0->torchrl) (2025.3.0)\n",
            "Requirement already satisfied: nvidia-cuda-nvrtc-cu12==12.1.105 in /usr/local/lib/python3.12/dist-packages (from torch>=2.1.0->torchrl) (12.1.105)\n",
            "Requirement already satisfied: nvidia-cuda-runtime-cu12==12.1.105 in /usr/local/lib/python3.12/dist-packages (from torch>=2.1.0->torchrl) (12.1.105)\n",
            "Requirement already satisfied: nvidia-cuda-cupti-cu12==12.1.105 in /usr/local/lib/python3.12/dist-packages (from torch>=2.1.0->torchrl) (12.1.105)\n",
            "Requirement already satisfied: nvidia-cudnn-cu12==8.9.2.26 in /usr/local/lib/python3.12/dist-packages (from torch>=2.1.0->torchrl) (8.9.2.26)\n",
            "Requirement already satisfied: nvidia-cublas-cu12==12.1.3.1 in /usr/local/lib/python3.12/dist-packages (from torch>=2.1.0->torchrl) (12.1.3.1)\n",
            "Requirement already satisfied: nvidia-cufft-cu12==11.0.2.54 in /usr/local/lib/python3.12/dist-packages (from torch>=2.1.0->torchrl) (11.0.2.54)\n",
            "Requirement already satisfied: nvidia-curand-cu12==10.3.2.106 in /usr/local/lib/python3.12/dist-packages (from torch>=2.1.0->torchrl) (10.3.2.106)\n",
            "Requirement already satisfied: nvidia-cusolver-cu12==11.4.5.107 in /usr/local/lib/python3.12/dist-packages (from torch>=2.1.0->torchrl) (11.4.5.107)\n",
            "Requirement already satisfied: nvidia-cusparse-cu12==12.1.0.106 in /usr/local/lib/python3.12/dist-packages (from torch>=2.1.0->torchrl) (12.1.0.106)\n",
            "Requirement already satisfied: nvidia-nccl-cu12==2.19.3 in /usr/local/lib/python3.12/dist-packages (from torch>=2.1.0->torchrl) (2.19.3)\n",
            "Requirement already satisfied: nvidia-nvtx-cu12==12.1.105 in /usr/local/lib/python3.12/dist-packages (from torch>=2.1.0->torchrl) (12.1.105)\n",
            "Requirement already satisfied: nvidia-nvjitlink-cu12 in /usr/local/lib/python3.12/dist-packages (from nvidia-cusolver-cu12==11.4.5.107->torch>=2.1.0->torchrl) (12.6.85)\n",
            "Requirement already satisfied: zipp>=3.20 in /usr/local/lib/python3.12/dist-packages (from importlib_metadata->tensordict<0.10.0,>=0.9.0->torchrl) (3.23.0)\n",
            "Requirement already satisfied: MarkupSafe>=2.0 in /usr/local/lib/python3.12/dist-packages (from jinja2->torch>=2.1.0->torchrl) (3.0.2)\n",
            "Requirement already satisfied: mpmath<1.4,>=1.1.0 in /usr/local/lib/python3.12/dist-packages (from sympy->torch>=2.1.0->torchrl) (1.3.0)\n"
          ]
        }
      ]
    },
    {
      "cell_type": "code",
      "source": [
        "#To create a basic reinforcement learning agent using TorchRL\n",
        "#(PyTorch's RL library), you need to set up the environment, policy, collector, and training loop. Below is a simple script for a\n",
        "#DQN agent interacting with the CartPole environment using TorchRL. This illustrates essential components: environment setup,\n",
        "#agent definition, data collection, and training steps."
      ],
      "metadata": {
        "id": "CrmQ4TnQdF-2"
      },
      "execution_count": null,
      "outputs": []
    },
    {
      "cell_type": "code",
      "source": [
        "!pip -q install \"torchrl>=0.6,<0.10\" tensordict gymnasium\n"
      ],
      "metadata": {
        "id": "2V6gBlzVbtE_"
      },
      "execution_count": null,
      "outputs": []
    },
    {
      "cell_type": "code",
      "source": [
        "import torch, torchrl, tensordict, gymnasium\n",
        "print(\"torch:\", torch.__version__)\n",
        "print(\"torchrl:\", torchrl.__version__)\n",
        "print(\"tensordict:\", tensordict.__version__)\n",
        "print(\"gymnasium:\", gymnasium.__version__)\n"
      ],
      "metadata": {
        "colab": {
          "base_uri": "https://localhost:8080/"
        },
        "id": "QZvgCR71byvV",
        "outputId": "49088bf2-ba2b-47d7-a1d0-ff560f8897d7"
      },
      "execution_count": null,
      "outputs": [
        {
          "output_type": "stream",
          "name": "stdout",
          "text": [
            "torch: 2.8.0+cu126\n",
            "torchrl: 0.9.2\n",
            "tensordict: 0.9.1\n",
            "gymnasium: 1.2.0\n"
          ]
        }
      ]
    },
    {
      "cell_type": "code",
      "source": [
        "import torch\n",
        "from torch import nn\n",
        "from tensordict.nn import TensorDictModule, TensorDictSequential\n",
        "from torch.optim import Adam\n",
        "\n",
        "from IPython.display import Markdown, display\n",
        "\n",
        "# Silence TorchRL rounding warnings if you like\n",
        "import os\n",
        "os.environ[\"RL_WARNINGS\"] = \"False\"\n",
        "\n",
        "\n",
        "# Env\n",
        "from torchrl.envs import TransformedEnv, StepCounter\n",
        "try:\n",
        "    # Works on recent TorchRL; fallbacks cover older packaging\n",
        "    from torchrl.envs import GymEnv\n",
        "except Exception:\n",
        "    try:\n",
        "        from torchrl.envs.libs.gym import GymEnv\n",
        "    except Exception:\n",
        "        from torchrl.envs.libs.gymnasium import GymEnv\n",
        "\n",
        "env = TransformedEnv(GymEnv(\"CartPole-v1\"), StepCounter())\n",
        "env.set_seed(0)\n",
        "\n",
        "# Value network -> QValue policy (no legacy torchrl.modules.DQN)\n",
        "from torchrl.modules import MLP, QValueModule, EGreedyModule\n",
        "\n",
        "value_mlp = MLP(out_features=env.action_spec.shape[-1], num_cells=[128])\n",
        "value_net = TensorDictModule(value_mlp, in_keys=[\"observation\"], out_keys=[\"action_value\"])\n",
        "policy = TensorDictSequential(value_net, QValueModule(spec=env.action_spec))\n",
        "policy_explore = TensorDictSequential(\n",
        "    policy, EGreedyModule(env.action_spec, eps_init=0.5, annealing_num_steps=10_000)\n",
        ")\n",
        "\n",
        "# Collector + replay buffer\n",
        "from torchrl.collectors import SyncDataCollector\n",
        "from torchrl.data import ReplayBuffer, LazyTensorStorage\n",
        "\n",
        "collector = SyncDataCollector(\n",
        "    env,\n",
        "    policy_explore,\n",
        "    frames_per_batch=128,\n",
        "    total_frames=10_000,\n",
        "    init_random_frames=1_000,\n",
        ")\n",
        "rb = ReplayBuffer(storage=LazyTensorStorage(100_000))\n",
        "\n",
        "# DQN loss + optimizer + target soft-update\n",
        "from torchrl.objectives import DQNLoss, SoftUpdate\n",
        "\n",
        "loss_mod = DQNLoss(value_network=policy, action_space=env.action_spec, delay_value=True)\n",
        "optim = Adam(loss_mod.parameters(), lr=1e-3)\n",
        "target_updater = SoftUpdate(loss_mod, eps=0.995)\n",
        "\n",
        "# Train\n",
        "episodes = 0\n",
        "for i, batch in enumerate(collector):\n",
        "    rb.extend(batch)\n",
        "    if len(rb) > 1_000:  # start learning after some experience\n",
        "        for _ in range(10):\n",
        "            sample = rb.sample(64)\n",
        "            loss_vals = loss_mod(sample)\n",
        "            loss_vals[\"loss\"].backward()\n",
        "            optim.step(); optim.zero_grad()\n",
        "            target_updater.step()\n",
        "        # anneal epsilon\n",
        "        policy_explore[-1].step(batch.numel())\n",
        "\n",
        "    episodes += batch[\"next\", \"done\"].sum().item()\n",
        "    if i >= 100:  # ~100 updates, similar to your loop\n",
        "        break\n",
        "\n",
        "print(\"Finished. Episodes seen:\", episodes)\n"
      ],
      "metadata": {
        "colab": {
          "base_uri": "https://localhost:8080/"
        },
        "id": "-GTwj5_qb_zQ",
        "outputId": "3baf878a-f438-425b-d2b0-26c957a42482"
      },
      "execution_count": null,
      "outputs": [
        {
          "output_type": "stream",
          "name": "stderr",
          "text": [
            "/usr/local/lib/python3.12/dist-packages/torchrl/collectors/collectors.py:870: UserWarning: total_frames (10000) is not exactly divisible by frames_per_batch (128). This means 112 additional frames will be collected.To silence this message, set the environment variable RL_WARNINGS to False.\n",
            "  warnings.warn(\n",
            "/usr/local/lib/python3.12/dist-packages/torchrl/collectors/collectors.py:887: UserWarning: init_random_frames (1000) is not exactly a multiple of frames_per_batch (128),  this results in more init_random_frames than requested (1024).To silence this message, set the environment variable RL_WARNINGS to False.\n",
            "  warnings.warn(\n",
            "/usr/local/lib/python3.12/dist-packages/jupyter_client/session.py:203: DeprecationWarning: datetime.datetime.utcnow() is deprecated and scheduled for removal in a future version. Use timezone-aware objects to represent datetimes in UTC: datetime.datetime.now(datetime.UTC).\n",
            "  return datetime.utcnow().replace(tzinfo=utc)\n"
          ]
        },
        {
          "output_type": "stream",
          "name": "stdout",
          "text": [
            "Finished. Episodes seen: 496\n"
          ]
        }
      ]
    },
    {
      "cell_type": "code",
      "source": [
        "display(Markdown(f\"### ✅ Training finished!\\nEpisodes seen: **{episodes}**\"))"
      ],
      "metadata": {
        "colab": {
          "base_uri": "https://localhost:8080/",
          "height": 83
        },
        "id": "VOa27_qnh65a",
        "outputId": "2f1590ca-6a42-4939-c64c-cd86b1a951c9"
      },
      "execution_count": null,
      "outputs": [
        {
          "output_type": "display_data",
          "data": {
            "text/plain": [
              "<IPython.core.display.Markdown object>"
            ],
            "text/markdown": "### ✅ Training finished!\nEpisodes seen: **496**"
          },
          "metadata": {}
        }
      ]
    },
    {
      "cell_type": "code",
      "source": [
        "import matplotlib.pyplot as plt\n",
        "\n",
        "rewards = []\n",
        "for i, batch in enumerate(collector):\n",
        "    rb.extend(batch)\n",
        "    if len(rb) > 1_000:\n",
        "        for _ in range(10):\n",
        "            sample = rb.sample(64)\n",
        "            loss_vals = loss_mod(sample)\n",
        "            loss_vals[\"loss\"].backward()\n",
        "            optim.step(); optim.zero_grad()\n",
        "            target_updater.step()\n",
        "        policy_explore[-1].step(batch.numel())\n",
        "\n",
        "    # track episode rewards\n",
        "    rewards.extend(batch[\"next\", \"reward\"].sum(-2).cpu().numpy().tolist())\n",
        "\n",
        "    if i >= 100:\n",
        "        break\n",
        "\n",
        "plt.plot(rewards)\n",
        "plt.xlabel(\"Episode\")\n",
        "plt.ylabel(\"Total Reward\")\n",
        "plt.title(\"DQN Training Rewards on CartPole\")\n",
        "plt.show()\n"
      ],
      "metadata": {
        "colab": {
          "base_uri": "https://localhost:8080/",
          "height": 472
        },
        "id": "WWytfGCre6yl",
        "outputId": "699261a0-ea3f-4487-f38a-fbd4c10b4e80"
      },
      "execution_count": null,
      "outputs": [
        {
          "output_type": "display_data",
          "data": {
            "text/plain": [
              "<Figure size 640x480 with 1 Axes>"
            ],
            "image/png": "[encoded data removed]"
          },
          "metadata": {}
        }
      ]
    }
  ]
}